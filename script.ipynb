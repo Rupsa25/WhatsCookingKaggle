{
 "cells": [
  {
   "cell_type": "code",
   "execution_count": 1,
   "metadata": {},
   "outputs": [
    {
     "data": {
      "text/html": [
       "        <script type=\"text/javascript\">\n",
       "        window.PlotlyConfig = {MathJaxConfig: 'local'};\n",
       "        if (window.MathJax) {MathJax.Hub.Config({SVG: {font: \"STIX-Web\"}});}\n",
       "        if (typeof require !== 'undefined') {\n",
       "        require.undef(\"plotly\");\n",
       "        requirejs.config({\n",
       "            paths: {\n",
       "                'plotly': ['https://cdn.plot.ly/plotly-2.11.1.min']\n",
       "            }\n",
       "        });\n",
       "        require(['plotly'], function(Plotly) {\n",
       "            window._Plotly = Plotly;\n",
       "        });\n",
       "        }\n",
       "        </script>\n",
       "        "
      ]
     },
     "metadata": {},
     "output_type": "display_data"
    }
   ],
   "source": [
    "#imports\n",
    "from ipywidgets import interact\n",
    "import unidecode\n",
    "import pandas as pd\n",
    "import random\n",
    "import json\n",
    "from collections import Counter\n",
    "from itertools import chain\n",
    "from sklearn.feature_extraction.text import TfidfVectorizer\n",
    "import numpy as np\n",
    "import re\n",
    "#https://pypi.org/project/tqdm/ information on tqdm\n",
    "from tqdm import tqdm\n",
    "tqdm.pandas()\n",
    "\n",
    "#Data Visualization\n",
    "import matplotlib.pyplot as plt\n",
    "import seaborn as sns\n",
    "import plotly\n",
    "from plotly import tools\n",
    "from plotly.offline import download_plotlyjs, init_notebook_mode, plot, iplot \n",
    "init_notebook_mode(connected=True)\n",
    "import plotly.offline as offline\n",
    "import plotly.graph_objs as go\n",
    "import plotly.express as px\n",
    "\n",
    "# Data Modeling\n",
    "from sklearn.ensemble import VotingClassifier\n",
    "from sklearn.feature_extraction.text import CountVectorizer\n",
    "from gensim.models import FastText, Word2Vec\n",
    "from sklearn.decomposition import TruncatedSVD\n",
    "from sklearn.feature_extraction.text import CountVectorizer, TfidfVectorizer\n",
    "from sklearn.linear_model import LogisticRegression\n",
    "from sklearn.datasets import make_classification\n",
    "from sklearn.naive_bayes import MultinomialNB\n",
    "from sklearn.neural_network import MLPClassifier\n",
    "from sklearn.metrics import accuracy_score\n",
    "from sklearn.model_selection import KFold, cross_validate, train_test_split\n",
    "from sklearn.preprocessing import LabelEncoder\n",
    "from sklearn.preprocessing import MultiLabelBinarizer\n",
    "from sklearn.preprocessing import FunctionTransformer, LabelEncoder\n",
    "from sklearn.pipeline import make_pipeline, make_union\n",
    "from sklearn.preprocessing import LabelEncoder\n",
    "from sklearn.svm import SVC\n",
    "from sklearn.multiclass import OneVsRestClassifier\n",
    "from sklearn import model_selection \n",
    "from nltk.stem import WordNetLemmatizer\n",
    "import warnings\n",
    "warnings.filterwarnings('ignore')"
   ]
  },
  {
   "cell_type": "code",
   "execution_count": 2,
   "metadata": {},
   "outputs": [],
   "source": [
    "train=pd.read_json('train.json')\n",
    "test=pd.read_json('test.json')"
   ]
  },
  {
   "cell_type": "code",
   "execution_count": 3,
   "metadata": {},
   "outputs": [
    {
     "name": "stdout",
     "output_type": "stream",
     "text": [
      "<class 'pandas.core.frame.DataFrame'>\n",
      "RangeIndex: 39774 entries, 0 to 39773\n",
      "Data columns (total 3 columns):\n",
      " #   Column       Non-Null Count  Dtype \n",
      "---  ------       --------------  ----- \n",
      " 0   id           39774 non-null  int64 \n",
      " 1   cuisine      39774 non-null  object\n",
      " 2   ingredients  39774 non-null  object\n",
      "dtypes: int64(1), object(2)\n",
      "memory usage: 932.3+ KB\n",
      "None\n",
      "<class 'pandas.core.frame.DataFrame'>\n",
      "RangeIndex: 9944 entries, 0 to 9943\n",
      "Data columns (total 2 columns):\n",
      " #   Column       Non-Null Count  Dtype \n",
      "---  ------       --------------  ----- \n",
      " 0   id           9944 non-null   int64 \n",
      " 1   ingredients  9944 non-null   object\n",
      "dtypes: int64(1), object(1)\n",
      "memory usage: 155.5+ KB\n",
      "None\n"
     ]
    }
   ],
   "source": [
    "print(train.info())\n",
    "print(test.info())"
   ]
  },
  {
   "cell_type": "code",
   "execution_count": 4,
   "metadata": {},
   "outputs": [
    {
     "data": {
      "text/html": [
       "<div>\n",
       "<style scoped>\n",
       "    .dataframe tbody tr th:only-of-type {\n",
       "        vertical-align: middle;\n",
       "    }\n",
       "\n",
       "    .dataframe tbody tr th {\n",
       "        vertical-align: top;\n",
       "    }\n",
       "\n",
       "    .dataframe thead th {\n",
       "        text-align: right;\n",
       "    }\n",
       "</style>\n",
       "<table border=\"1\" class=\"dataframe\">\n",
       "  <thead>\n",
       "    <tr style=\"text-align: right;\">\n",
       "      <th></th>\n",
       "      <th>id</th>\n",
       "      <th>cuisine</th>\n",
       "      <th>ingredients</th>\n",
       "    </tr>\n",
       "  </thead>\n",
       "  <tbody>\n",
       "    <tr>\n",
       "      <th>0</th>\n",
       "      <td>10259</td>\n",
       "      <td>greek</td>\n",
       "      <td>[romaine lettuce, black olives, grape tomatoes...</td>\n",
       "    </tr>\n",
       "    <tr>\n",
       "      <th>1</th>\n",
       "      <td>25693</td>\n",
       "      <td>southern_us</td>\n",
       "      <td>[plain flour, ground pepper, salt, tomatoes, g...</td>\n",
       "    </tr>\n",
       "    <tr>\n",
       "      <th>2</th>\n",
       "      <td>20130</td>\n",
       "      <td>filipino</td>\n",
       "      <td>[eggs, pepper, salt, mayonaise, cooking oil, g...</td>\n",
       "    </tr>\n",
       "    <tr>\n",
       "      <th>3</th>\n",
       "      <td>22213</td>\n",
       "      <td>indian</td>\n",
       "      <td>[water, vegetable oil, wheat, salt]</td>\n",
       "    </tr>\n",
       "    <tr>\n",
       "      <th>4</th>\n",
       "      <td>13162</td>\n",
       "      <td>indian</td>\n",
       "      <td>[black pepper, shallots, cornflour, cayenne pe...</td>\n",
       "    </tr>\n",
       "  </tbody>\n",
       "</table>\n",
       "</div>"
      ],
      "text/plain": [
       "      id      cuisine                                        ingredients\n",
       "0  10259        greek  [romaine lettuce, black olives, grape tomatoes...\n",
       "1  25693  southern_us  [plain flour, ground pepper, salt, tomatoes, g...\n",
       "2  20130     filipino  [eggs, pepper, salt, mayonaise, cooking oil, g...\n",
       "3  22213       indian                [water, vegetable oil, wheat, salt]\n",
       "4  13162       indian  [black pepper, shallots, cornflour, cayenne pe..."
      ]
     },
     "execution_count": 4,
     "metadata": {},
     "output_type": "execute_result"
    }
   ],
   "source": [
    "train.head()"
   ]
  },
  {
   "cell_type": "code",
   "execution_count": 5,
   "metadata": {},
   "outputs": [
    {
     "data": {
      "text/plain": [
       "array(['greek', 'southern_us', 'filipino', 'indian', 'jamaican',\n",
       "       'spanish', 'italian', 'mexican', 'chinese', 'british', 'thai',\n",
       "       'vietnamese', 'cajun_creole', 'brazilian', 'french', 'japanese',\n",
       "       'irish', 'korean', 'moroccan', 'russian'], dtype=object)"
      ]
     },
     "execution_count": 5,
     "metadata": {},
     "output_type": "execute_result"
    }
   ],
   "source": [
    "train.cuisine.unique()"
   ]
  },
  {
   "cell_type": "code",
   "execution_count": 6,
   "metadata": {},
   "outputs": [
    {
     "data": {
      "text/plain": [
       "<AxesSubplot:>"
      ]
     },
     "execution_count": 6,
     "metadata": {},
     "output_type": "execute_result"
    },
    {
     "data": {
      "image/png": "[encoded data removed]",
      "text/plain": [
       "<Figure size 432x288 with 1 Axes>"
      ]
     },
     "metadata": {
      "needs_background": "light"
     },
     "output_type": "display_data"
    }
   ],
   "source": [
    "train['cuisine'].value_counts().plot.bar()"
   ]
  },
  {
   "cell_type": "code",
   "execution_count": 7,
   "metadata": {},
   "outputs": [],
   "source": [
    "raw_ing=[i for ing in train['ingredients'] for i in ing]"
   ]
  },
  {
   "cell_type": "code",
   "execution_count": 8,
   "metadata": {},
   "outputs": [
    {
     "data": {
      "text/plain": [
       "428275"
      ]
     },
     "execution_count": 8,
     "metadata": {},
     "output_type": "execute_result"
    }
   ],
   "source": [
    "len(raw_ing)"
   ]
  },
  {
   "cell_type": "code",
   "execution_count": 9,
   "metadata": {},
   "outputs": [
    {
     "data": {
      "text/plain": [
       "6714"
      ]
     },
     "execution_count": 9,
     "metadata": {},
     "output_type": "execute_result"
    }
   ],
   "source": [
    "len(set(raw_ing))"
   ]
  },
  {
   "cell_type": "code",
   "execution_count": 10,
   "metadata": {},
   "outputs": [],
   "source": [
    "train['num_ing']=train['ingredients'].str.len()"
   ]
  },
  {
   "cell_type": "code",
   "execution_count": 11,
   "metadata": {},
   "outputs": [
    {
     "data": {
      "text/plain": [
       "<AxesSubplot:xlabel='num_ing'>"
      ]
     },
     "execution_count": 11,
     "metadata": {},
     "output_type": "execute_result"
    },
    {
     "data": {
      "image/png": "[encoded data removed]",
      "text/plain": [
       "<Figure size 1152x432 with 1 Axes>"
      ]
     },
     "metadata": {
      "needs_background": "light"
     },
     "output_type": "display_data"
    }
   ],
   "source": [
    "plt.figure(figsize=(16,6))\n",
    "sns.distplot(train['num_ing'],kde =False ,bins=60)"
   ]
  },
  {
   "cell_type": "code",
   "execution_count": 12,
   "metadata": {},
   "outputs": [
    {
     "data": {
      "text/plain": [
       "[('salt', 18049),\n",
       " ('onions', 7972),\n",
       " ('olive oil', 7972),\n",
       " ('water', 7457),\n",
       " ('garlic', 7380),\n",
       " ('sugar', 6434),\n",
       " ('garlic cloves', 6237),\n",
       " ('butter', 4848),\n",
       " ('ground black pepper', 4785),\n",
       " ('all-purpose flour', 4632),\n",
       " ('pepper', 4438),\n",
       " ('vegetable oil', 4385),\n",
       " ('eggs', 3388),\n",
       " ('soy sauce', 3296),\n",
       " ('kosher salt', 3113),\n",
       " ('green onions', 3078),\n",
       " ('tomatoes', 3058),\n",
       " ('large eggs', 2948),\n",
       " ('carrots', 2814),\n",
       " ('unsalted butter', 2782)]"
      ]
     },
     "execution_count": 12,
     "metadata": {},
     "output_type": "execute_result"
    }
   ],
   "source": [
    "top=Counter(raw_ing)\n",
    "top.most_common(20)"
   ]
  },
  {
   "cell_type": "code",
   "execution_count": 13,
   "metadata": {},
   "outputs": [],
   "source": [
    "#top unique ingredients in specific cuisine \n",
    "def cuisine_wise(cuisine,n):\n",
    "    \"\"\"\n",
    "    Input: \n",
    "        cuisine-cuisine category\n",
    "        n-number of ingredients to be displayed\n",
    "        raw_ingredients-the list of ingredients for the specific cuisine category\n",
    "    Ouput:\n",
    "        dataframe of top n ingredients and their frequency for the specific cuisine\n",
    "    \"\"\"\n",
    "    mycounter=Counter()\n",
    "    for ing in train[train.cuisine==cuisine]['ingredients']:\n",
    "        for i in ing:\n",
    "            mycounter[i]+=1\n",
    "    tmp=[]\n",
    "    for ing in train[train.cuisine!=cuisine]['ingredients']:\n",
    "        for i in ing:\n",
    "            tmp.append(i)\n",
    "    others=list(set(tmp))\n",
    "\n",
    "    for i in list(mycounter):\n",
    "        if i in others:\n",
    "            del mycounter[i]\n",
    "    \n",
    "    cuisinewise_df=pd.DataFrame(mycounter.most_common(n),columns=['ingredients','count'])\n",
    "    return cuisinewise_df"
   ]
  },
  {
   "cell_type": "code",
   "execution_count": 14,
   "metadata": {},
   "outputs": [
    {
     "name": "stdout",
     "output_type": "stream",
     "text": [
      "The top 10 unique ingredients in Mexican cuisine are:\n"
     ]
    },
    {
     "data": {
      "text/html": [
       "<div>\n",
       "<style scoped>\n",
       "    .dataframe tbody tr th:only-of-type {\n",
       "        vertical-align: middle;\n",
       "    }\n",
       "\n",
       "    .dataframe tbody tr th {\n",
       "        vertical-align: top;\n",
       "    }\n",
       "\n",
       "    .dataframe thead th {\n",
       "        text-align: right;\n",
       "    }\n",
       "</style>\n",
       "<table border=\"1\" class=\"dataframe\">\n",
       "  <thead>\n",
       "    <tr style=\"text-align: right;\">\n",
       "      <th></th>\n",
       "      <th>ingredients</th>\n",
       "      <th>count</th>\n",
       "    </tr>\n",
       "  </thead>\n",
       "  <tbody>\n",
       "    <tr>\n",
       "      <th>0</th>\n",
       "      <td>refried beans</td>\n",
       "      <td>250</td>\n",
       "    </tr>\n",
       "    <tr>\n",
       "      <th>1</th>\n",
       "      <td>taco seasoning mix</td>\n",
       "      <td>181</td>\n",
       "    </tr>\n",
       "    <tr>\n",
       "      <th>2</th>\n",
       "      <td>red enchilada sauce</td>\n",
       "      <td>65</td>\n",
       "    </tr>\n",
       "    <tr>\n",
       "      <th>3</th>\n",
       "      <td>taco sauce</td>\n",
       "      <td>63</td>\n",
       "    </tr>\n",
       "    <tr>\n",
       "      <th>4</th>\n",
       "      <td>poblano chilies</td>\n",
       "      <td>33</td>\n",
       "    </tr>\n",
       "    <tr>\n",
       "      <th>5</th>\n",
       "      <td>mexican chocolate</td>\n",
       "      <td>32</td>\n",
       "    </tr>\n",
       "    <tr>\n",
       "      <th>6</th>\n",
       "      <td>baked tortilla chips</td>\n",
       "      <td>31</td>\n",
       "    </tr>\n",
       "    <tr>\n",
       "      <th>7</th>\n",
       "      <td>green enchilada sauce</td>\n",
       "      <td>31</td>\n",
       "    </tr>\n",
       "    <tr>\n",
       "      <th>8</th>\n",
       "      <td>Mexican beer</td>\n",
       "      <td>30</td>\n",
       "    </tr>\n",
       "    <tr>\n",
       "      <th>9</th>\n",
       "      <td>chipotle</td>\n",
       "      <td>25</td>\n",
       "    </tr>\n",
       "  </tbody>\n",
       "</table>\n",
       "</div>"
      ],
      "text/plain": [
       "             ingredients  count\n",
       "0          refried beans    250\n",
       "1     taco seasoning mix    181\n",
       "2    red enchilada sauce     65\n",
       "3             taco sauce     63\n",
       "4        poblano chilies     33\n",
       "5      mexican chocolate     32\n",
       "6   baked tortilla chips     31\n",
       "7  green enchilada sauce     31\n",
       "8           Mexican beer     30\n",
       "9               chipotle     25"
      ]
     },
     "execution_count": 14,
     "metadata": {},
     "output_type": "execute_result"
    }
   ],
   "source": [
    "cuisinespec= cuisine_wise('mexican', 10)\n",
    "print(\"The top 10 unique ingredients in Mexican cuisine are:\")\n",
    "cuisinespec"
   ]
  },
  {
   "attachments": {},
   "cell_type": "markdown",
   "metadata": {},
   "source": [
    "Pre-Processing Data"
   ]
  },
  {
   "cell_type": "code",
   "execution_count": 15,
   "metadata": {},
   "outputs": [
    {
     "data": {
      "text/html": [
       "<div>\n",
       "<style scoped>\n",
       "    .dataframe tbody tr th:only-of-type {\n",
       "        vertical-align: middle;\n",
       "    }\n",
       "\n",
       "    .dataframe tbody tr th {\n",
       "        vertical-align: top;\n",
       "    }\n",
       "\n",
       "    .dataframe thead th {\n",
       "        text-align: right;\n",
       "    }\n",
       "</style>\n",
       "<table border=\"1\" class=\"dataframe\">\n",
       "  <thead>\n",
       "    <tr style=\"text-align: right;\">\n",
       "      <th></th>\n",
       "      <th>id</th>\n",
       "      <th>cuisine</th>\n",
       "      <th>ingredients</th>\n",
       "      <th>num_ing</th>\n",
       "    </tr>\n",
       "  </thead>\n",
       "  <tbody>\n",
       "    <tr>\n",
       "      <th>0</th>\n",
       "      <td>10259</td>\n",
       "      <td>greek</td>\n",
       "      <td>[romaine lettuce, black olives, grape tomatoes...</td>\n",
       "      <td>9</td>\n",
       "    </tr>\n",
       "    <tr>\n",
       "      <th>1</th>\n",
       "      <td>25693</td>\n",
       "      <td>southern_us</td>\n",
       "      <td>[plain flour, ground pepper, salt, tomatoes, g...</td>\n",
       "      <td>11</td>\n",
       "    </tr>\n",
       "    <tr>\n",
       "      <th>2</th>\n",
       "      <td>20130</td>\n",
       "      <td>filipino</td>\n",
       "      <td>[eggs, pepper, salt, mayonaise, cooking oil, g...</td>\n",
       "      <td>12</td>\n",
       "    </tr>\n",
       "    <tr>\n",
       "      <th>3</th>\n",
       "      <td>22213</td>\n",
       "      <td>indian</td>\n",
       "      <td>[water, vegetable oil, wheat, salt]</td>\n",
       "      <td>4</td>\n",
       "    </tr>\n",
       "    <tr>\n",
       "      <th>4</th>\n",
       "      <td>13162</td>\n",
       "      <td>indian</td>\n",
       "      <td>[black pepper, shallots, cornflour, cayenne pe...</td>\n",
       "      <td>20</td>\n",
       "    </tr>\n",
       "  </tbody>\n",
       "</table>\n",
       "</div>"
      ],
      "text/plain": [
       "      id      cuisine                                        ingredients  \\\n",
       "0  10259        greek  [romaine lettuce, black olives, grape tomatoes...   \n",
       "1  25693  southern_us  [plain flour, ground pepper, salt, tomatoes, g...   \n",
       "2  20130     filipino  [eggs, pepper, salt, mayonaise, cooking oil, g...   \n",
       "3  22213       indian                [water, vegetable oil, wheat, salt]   \n",
       "4  13162       indian  [black pepper, shallots, cornflour, cayenne pe...   \n",
       "\n",
       "   num_ing  \n",
       "0        9  \n",
       "1       11  \n",
       "2       12  \n",
       "3        4  \n",
       "4       20  "
      ]
     },
     "execution_count": 15,
     "metadata": {},
     "output_type": "execute_result"
    }
   ],
   "source": [
    "train.head()"
   ]
  },
  {
   "cell_type": "code",
   "execution_count": 16,
   "metadata": {},
   "outputs": [],
   "source": [
    "#removing outliers - entries with less than 1 ingredient and greater than 60 ingredients\n",
    "mask1=train.num_ing>1\n",
    "mask2=train.num_ing<60\n",
    "train=train[(mask1 & mask2)]"
   ]
  },
  {
   "cell_type": "code",
   "execution_count": 17,
   "metadata": {},
   "outputs": [
    {
     "data": {
      "text/plain": [
       "(39751, 4)"
      ]
     },
     "execution_count": 17,
     "metadata": {},
     "output_type": "execute_result"
    }
   ],
   "source": [
    "train.shape"
   ]
  },
  {
   "cell_type": "code",
   "execution_count": 18,
   "metadata": {},
   "outputs": [],
   "source": [
    "#word preprocessing : lower casing,removing special characters,hyphens,punctuations,numbers,units,accents,lemmatization\n",
    "lemmatizer=WordNetLemmatizer()\n",
    "def text_pre(ingredients):\n",
    "    ingredients_text = ' '.join(ingredients)\n",
    "    ingredients_text = ingredients_text.lower() #Lower - Casing\n",
    "    ingredients_text = ingredients_text.replace('-', ' ') # Removing Hyphen\n",
    "    words = []\n",
    "    for word in ingredients_text.split():\n",
    "        word = re.sub(\"[0-9]\",\" \",word) #removing numbers,punctuations and special characters\n",
    "        word = re.sub((r'\\b(oz|ounc|ounce|pound|lb|inch|inches|kg|to)\\b'), ' ', word) # Removing Units\n",
    "        if len(word) <= 2: continue # Removing words with less than two characters\n",
    "        word = unidecode.unidecode(word) #Removing accents\n",
    "        word = lemmatizer.lemmatize(word) #Lemmatize\n",
    "        if len(word) > 0: words.append(word)\n",
    "    return ' '.join(words)"
   ]
  },
  {
   "cell_type": "code",
   "execution_count": 19,
   "metadata": {},
   "outputs": [
    {
     "name": "stderr",
     "output_type": "stream",
     "text": [
      "100%|██████████| 39751/39751 [00:03<00:00, 12741.51it/s]\n",
      "100%|██████████| 9944/9944 [00:00<00:00, 17037.67it/s]\n"
     ]
    },
    {
     "data": {
      "text/html": [
       "<div>\n",
       "<style scoped>\n",
       "    .dataframe tbody tr th:only-of-type {\n",
       "        vertical-align: middle;\n",
       "    }\n",
       "\n",
       "    .dataframe tbody tr th {\n",
       "        vertical-align: top;\n",
       "    }\n",
       "\n",
       "    .dataframe thead th {\n",
       "        text-align: right;\n",
       "    }\n",
       "</style>\n",
       "<table border=\"1\" class=\"dataframe\">\n",
       "  <thead>\n",
       "    <tr style=\"text-align: right;\">\n",
       "      <th></th>\n",
       "      <th>id</th>\n",
       "      <th>cuisine</th>\n",
       "      <th>ingredients</th>\n",
       "      <th>num_ing</th>\n",
       "      <th>x</th>\n",
       "    </tr>\n",
       "  </thead>\n",
       "  <tbody>\n",
       "    <tr>\n",
       "      <th>0</th>\n",
       "      <td>10259</td>\n",
       "      <td>greek</td>\n",
       "      <td>[romaine lettuce, black olives, grape tomatoes...</td>\n",
       "      <td>9</td>\n",
       "      <td>romaine lettuce black olive grape tomato garli...</td>\n",
       "    </tr>\n",
       "    <tr>\n",
       "      <th>1</th>\n",
       "      <td>25693</td>\n",
       "      <td>southern_us</td>\n",
       "      <td>[plain flour, ground pepper, salt, tomatoes, g...</td>\n",
       "      <td>11</td>\n",
       "      <td>plain flour ground pepper salt tomato ground b...</td>\n",
       "    </tr>\n",
       "    <tr>\n",
       "      <th>2</th>\n",
       "      <td>20130</td>\n",
       "      <td>filipino</td>\n",
       "      <td>[eggs, pepper, salt, mayonaise, cooking oil, g...</td>\n",
       "      <td>12</td>\n",
       "      <td>egg pepper salt mayonaise cooking oil green ch...</td>\n",
       "    </tr>\n",
       "    <tr>\n",
       "      <th>3</th>\n",
       "      <td>22213</td>\n",
       "      <td>indian</td>\n",
       "      <td>[water, vegetable oil, wheat, salt]</td>\n",
       "      <td>4</td>\n",
       "      <td>water vegetable oil wheat salt</td>\n",
       "    </tr>\n",
       "    <tr>\n",
       "      <th>4</th>\n",
       "      <td>13162</td>\n",
       "      <td>indian</td>\n",
       "      <td>[black pepper, shallots, cornflour, cayenne pe...</td>\n",
       "      <td>20</td>\n",
       "      <td>black pepper shallot cornflour cayenne pepper ...</td>\n",
       "    </tr>\n",
       "  </tbody>\n",
       "</table>\n",
       "</div>"
      ],
      "text/plain": [
       "      id      cuisine                                        ingredients  \\\n",
       "0  10259        greek  [romaine lettuce, black olives, grape tomatoes...   \n",
       "1  25693  southern_us  [plain flour, ground pepper, salt, tomatoes, g...   \n",
       "2  20130     filipino  [eggs, pepper, salt, mayonaise, cooking oil, g...   \n",
       "3  22213       indian                [water, vegetable oil, wheat, salt]   \n",
       "4  13162       indian  [black pepper, shallots, cornflour, cayenne pe...   \n",
       "\n",
       "   num_ing                                                  x  \n",
       "0        9  romaine lettuce black olive grape tomato garli...  \n",
       "1       11  plain flour ground pepper salt tomato ground b...  \n",
       "2       12  egg pepper salt mayonaise cooking oil green ch...  \n",
       "3        4                     water vegetable oil wheat salt  \n",
       "4       20  black pepper shallot cornflour cayenne pepper ...  "
      ]
     },
     "execution_count": 19,
     "metadata": {},
     "output_type": "execute_result"
    }
   ],
   "source": [
    "train['x'] = train['ingredients'].progress_apply(text_pre)\n",
    "test['x'] = test['ingredients'].progress_apply(text_pre)\n",
    "train.head()"
   ]
  },
  {
   "cell_type": "code",
   "execution_count": 20,
   "metadata": {},
   "outputs": [
    {
     "data": {
      "text/plain": [
       "'romaine lettuce black olive grape tomato garlic pepper purple onion seasoning garbanzo bean feta cheese crumbles'"
      ]
     },
     "execution_count": 20,
     "metadata": {},
     "output_type": "execute_result"
    }
   ],
   "source": [
    "train['x'][0]"
   ]
  },
  {
   "cell_type": "code",
   "execution_count": 21,
   "metadata": {},
   "outputs": [],
   "source": [
    "def train_model(x, y, n_splits=3):\n",
    "    model = LogisticRegression(C=10, solver='sag', multi_class='multinomial', max_iter=300, n_jobs=-1)\n",
    "    i = 0\n",
    "    accuracies = []\n",
    "    kfold = KFold(n_splits)\n",
    "    for train_index, test_index in kfold.split(x):\n",
    "        classifier = LogisticRegression(C=10, solver='sag', multi_class='multinomial', max_iter=300, n_jobs=-1)\n",
    "        classifier.fit(x[train_index], y[train_index])\n",
    "        predictions = classifier.predict(x[test_index])\n",
    "        accuracies.append(accuracy_score(predictions, y[test_index]))\n",
    "        i += 1\n",
    "    average_accuracy = sum(accuracies) / len(accuracies)\n",
    "    return average_accuracy"
   ]
  },
  {
   "cell_type": "code",
   "execution_count": 22,
   "metadata": {},
   "outputs": [],
   "source": [
    "def run_experiment(preprocessor):\n",
    "    train = json.load(open('./train.json'))\n",
    "\n",
    "    target = [doc['cuisine'] for doc in train]\n",
    "    lb = LabelEncoder()\n",
    "    y = lb.fit_transform(target)\n",
    "\n",
    "    x = preprocessor.fit_transform(train)\n",
    "\n",
    "    return train_model(x, y)"
   ]
  },
  {
   "cell_type": "code",
   "execution_count": 23,
   "metadata": {},
   "outputs": [
    {
     "data": {
      "text/html": [
       "<div>\n",
       "<style scoped>\n",
       "    .dataframe tbody tr th:only-of-type {\n",
       "        vertical-align: middle;\n",
       "    }\n",
       "\n",
       "    .dataframe tbody tr th {\n",
       "        vertical-align: top;\n",
       "    }\n",
       "\n",
       "    .dataframe thead th {\n",
       "        text-align: right;\n",
       "    }\n",
       "</style>\n",
       "<table border=\"1\" class=\"dataframe\">\n",
       "  <thead>\n",
       "    <tr style=\"text-align: right;\">\n",
       "      <th></th>\n",
       "      <th>name</th>\n",
       "      <th>accuracy</th>\n",
       "      <th>execution time</th>\n",
       "    </tr>\n",
       "  </thead>\n",
       "  <tbody>\n",
       "    <tr>\n",
       "      <th>6</th>\n",
       "      <td>TfidfVectorizer(sublinear_tf=True)</td>\n",
       "      <td>0.782572</td>\n",
       "      <td>4.11s</td>\n",
       "    </tr>\n",
       "    <tr>\n",
       "      <th>0</th>\n",
       "      <td>TfidfVectorizer()</td>\n",
       "      <td>0.782471</td>\n",
       "      <td>4.16s</td>\n",
       "    </tr>\n",
       "    <tr>\n",
       "      <th>4</th>\n",
       "      <td>TfidfVectorizer(max_df=0.95)</td>\n",
       "      <td>0.782471</td>\n",
       "      <td>4.24s</td>\n",
       "    </tr>\n",
       "    <tr>\n",
       "      <th>5</th>\n",
       "      <td>TfidfVectorizer(max_df=0.9)</td>\n",
       "      <td>0.782471</td>\n",
       "      <td>4.24s</td>\n",
       "    </tr>\n",
       "    <tr>\n",
       "      <th>7</th>\n",
       "      <td>TfidfVectorizer(strip_accents=unicode)</td>\n",
       "      <td>0.782421</td>\n",
       "      <td>4.54s</td>\n",
       "    </tr>\n",
       "    <tr>\n",
       "      <th>2</th>\n",
       "      <td>TfidfVectorizer(min_df=3)</td>\n",
       "      <td>0.782370</td>\n",
       "      <td>4.32s</td>\n",
       "    </tr>\n",
       "    <tr>\n",
       "      <th>1</th>\n",
       "      <td>TfidfVectorizer(binary=True)</td>\n",
       "      <td>0.781943</td>\n",
       "      <td>4.45s</td>\n",
       "    </tr>\n",
       "    <tr>\n",
       "      <th>3</th>\n",
       "      <td>TfidfVectorizer(min_df=5)</td>\n",
       "      <td>0.781038</td>\n",
       "      <td>4.26s</td>\n",
       "    </tr>\n",
       "  </tbody>\n",
       "</table>\n",
       "</div>"
      ],
      "text/plain": [
       "                                     name  accuracy execution time\n",
       "6      TfidfVectorizer(sublinear_tf=True)  0.782572          4.11s\n",
       "0                       TfidfVectorizer()  0.782471          4.16s\n",
       "4            TfidfVectorizer(max_df=0.95)  0.782471          4.24s\n",
       "5             TfidfVectorizer(max_df=0.9)  0.782471          4.24s\n",
       "7  TfidfVectorizer(strip_accents=unicode)  0.782421          4.54s\n",
       "2               TfidfVectorizer(min_df=3)  0.782370          4.32s\n",
       "1            TfidfVectorizer(binary=True)  0.781943          4.45s\n",
       "3               TfidfVectorizer(min_df=5)  0.781038          4.26s"
      ]
     },
     "execution_count": 23,
     "metadata": {},
     "output_type": "execute_result"
    }
   ],
   "source": [
    "import time\n",
    "results = []\n",
    "for (name, preprocessor) in [\n",
    "    ('TfidfVectorizer()', make_pipeline(\n",
    "        FunctionTransformer(lambda x: [\" \".join(doc['ingredients']).lower() for doc in x], validate=False),\n",
    "        TfidfVectorizer(),\n",
    "    )),\n",
    "    ('TfidfVectorizer(binary=True)', make_pipeline(\n",
    "        FunctionTransformer(lambda x: [\" \".join(doc['ingredients']).lower() for doc in x], validate=False),\n",
    "        TfidfVectorizer(binary=True),\n",
    "    )),\n",
    "    ('TfidfVectorizer(min_df=3)', make_pipeline(\n",
    "        FunctionTransformer(lambda x: [\" \".join(doc['ingredients']).lower() for doc in x], validate=False),\n",
    "        TfidfVectorizer(min_df=3),\n",
    "    )),\n",
    "    ('TfidfVectorizer(min_df=5)', make_pipeline(\n",
    "        FunctionTransformer(lambda x: [\" \".join(doc['ingredients']).lower() for doc in x], validate=False),\n",
    "        TfidfVectorizer(min_df=5),\n",
    "    )),\n",
    "    ('TfidfVectorizer(max_df=0.95)', make_pipeline(\n",
    "        FunctionTransformer(lambda x: [\" \".join(doc['ingredients']).lower() for doc in x], validate=False),\n",
    "        TfidfVectorizer(max_df=0.95),\n",
    "    )),\n",
    "     ('TfidfVectorizer(max_df=0.9)', make_pipeline(\n",
    "        FunctionTransformer(lambda x: [\" \".join(doc['ingredients']).lower() for doc in x], validate=False),\n",
    "        TfidfVectorizer(max_df=0.9),\n",
    "    )),\n",
    "    ('TfidfVectorizer(sublinear_tf=True)', make_pipeline(\n",
    "        FunctionTransformer(lambda x: [\" \".join(doc['ingredients']).lower() for doc in x], validate=False),\n",
    "        TfidfVectorizer(sublinear_tf=True),\n",
    "    )),\n",
    "    ('TfidfVectorizer(strip_accents=unicode)', make_pipeline(\n",
    "        FunctionTransformer(lambda x: [\" \".join(doc['ingredients']).lower() for doc in x], validate=False),\n",
    "        TfidfVectorizer(strip_accents='unicode'),\n",
    "    )),\n",
    "]:\n",
    "    start = time.time()\n",
    "    accuracy = run_experiment(preprocessor)\n",
    "    execution_time = time.time() - start\n",
    "    results.append({\n",
    "        'name': name,\n",
    "        'accuracy': accuracy,\n",
    "        'execution time': f'{round(execution_time, 2)}s'\n",
    "    })\n",
    "pd.DataFrame(results, columns=['name', 'accuracy', 'execution time']).sort_values(by='accuracy', ascending=False)"
   ]
  },
  {
   "cell_type": "code",
   "execution_count": 24,
   "metadata": {},
   "outputs": [],
   "source": [
    "vectorizer = TfidfVectorizer(sublinear_tf=True)\n",
    "X_train = vectorizer.fit_transform(train['x'].values)\n",
    "X_train.sort_indices()\n",
    "X_test = vectorizer.transform(test['x'].values)\n",
    "label_encoder = LabelEncoder()\n",
    "Y_train = label_encoder.fit_transform(train['cuisine'].values)"
   ]
  },
  {
   "cell_type": "code",
   "execution_count": 25,
   "metadata": {},
   "outputs": [],
   "source": [
    "classifier = SVC(C=100, # penalty parameter\n",
    "\t \t\t\t kernel='rbf', # kernel type, rbf working fine here\n",
    "\t \t\t\t degree=3, # default value\n",
    "\t \t\t\t gamma=1, # kernel coefficient\n",
    "\t \t\t\t coef0=1, # change to 1 from default value of 0.0\n",
    "\t \t\t\t shrinking=True, # using shrinking heuristics\n",
    "\t \t\t\t tol=0.001, # stopping criterion tolerance \n",
    "\t      \t\t probability=True, # no need to enable probability estimates\n",
    "\t      \t\t cache_size=200, # 200 MB cache size\n",
    "\t      \t\t class_weight=None, # all classes are treated equally \n",
    "\t      \t\t verbose=False, # print the logs \n",
    "\t      \t\t max_iter=-1, # no limit, let it run\n",
    "          \t\t decision_function_shape='ovr', # will use one vs rest explicitly \n",
    "          \t\t random_state=None)"
   ]
  },
  {
   "cell_type": "code",
   "execution_count": null,
   "metadata": {},
   "outputs": [
    {
     "data": {
      "text/plain": [
       "SVC(C=100, coef0=1, gamma=1)"
      ]
     },
     "execution_count": 93,
     "metadata": {},
     "output_type": "execute_result"
    }
   ],
   "source": [
    "classifier.fit(X_train, Y_train)"
   ]
  },
  {
   "cell_type": "code",
   "execution_count": null,
   "metadata": {},
   "outputs": [],
   "source": [
    "Y_test = classifier.predict(X_test)\n",
    "Y_pred = label_encoder.inverse_transform(Y_test)"
   ]
  },
  {
   "cell_type": "code",
   "execution_count": 95,
   "metadata": {},
   "outputs": [],
   "source": [
    "test_id = test['id']\n",
    "sub = pd.DataFrame({'id': test_id, 'cuisine': Y_pred}, columns=['id', 'cuisine'])\n",
    "sub.to_csv('submission.csv', index=False)"
   ]
  },
  {
   "cell_type": "code",
   "execution_count": 26,
   "metadata": {},
   "outputs": [],
   "source": [
    "mnb = MultinomialNB()\n",
    "nn = MLPClassifier(hidden_layer_sizes=(100,), max_iter=1000, random_state=42)"
   ]
  },
  {
   "cell_type": "code",
   "execution_count": 27,
   "metadata": {},
   "outputs": [
    {
     "data": {
      "text/plain": [
       "VotingClassifier(estimators=[('svc',\n",
       "                              SVC(C=100, coef0=1, gamma=1, probability=True)),\n",
       "                             ('mnb', MultinomialNB()),\n",
       "                             ('nn',\n",
       "                              MLPClassifier(max_iter=1000, random_state=42))],\n",
       "                 voting='soft')"
      ]
     },
     "execution_count": 27,
     "metadata": {},
     "output_type": "execute_result"
    }
   ],
   "source": [
    "voting_clf = VotingClassifier(estimators=[('svc', classifier), ('mnb', mnb), ('nn', nn)], voting='soft')\n",
    "voting_clf.fit(X_train, Y_train)"
   ]
  },
  {
   "cell_type": "code",
   "execution_count": 28,
   "metadata": {},
   "outputs": [],
   "source": [
    "Y_test_voting = voting_clf.predict(X_test)\n",
    "Y_pred_voting = label_encoder.inverse_transform(Y_test_voting)"
   ]
  },
  {
   "cell_type": "code",
   "execution_count": 30,
   "metadata": {},
   "outputs": [],
   "source": [
    "test_id = test['id']\n",
    "sub = pd.DataFrame({'id': test_id, 'cuisine': Y_pred_voting}, columns=['id', 'cuisine'])\n",
    "sub.to_csv('submission1.csv', index=False)"
   ]
  },
  {
   "cell_type": "code",
   "execution_count": null,
   "metadata": {},
   "outputs": [],
   "source": []
  }
 ],
 "metadata": {
  "kernelspec": {
   "display_name": "base",
   "language": "python",
   "name": "python3"
  },
  "language_info": {
   "codemirror_mode": {
    "name": "ipython",
    "version": 3
   },
   "file_extension": ".py",
   "mimetype": "text/x-python",
   "name": "python",
   "nbconvert_exporter": "python",
   "pygments_lexer": "ipython3",
   "version": "3.9.10"
  },
  "orig_nbformat": 4
 },
 "nbformat": 4,
 "nbformat_minor": 2
}
